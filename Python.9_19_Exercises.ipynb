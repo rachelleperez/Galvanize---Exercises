{
 "cells": [
  {
   "cell_type": "markdown",
   "metadata": {},
   "source": [
    "# 1)\n",
    "\n",
    "'''\n",
    "Write a function called \"isOdd\". Given a number, \"isOdd\" returns whether the given number is odd.\n",
    "\n",
    "output = isOdd(9)\n",
    "print(output) # --> True\n",
    "\n",
    "'''"
   ]
  },
  {
   "cell_type": "code",
   "execution_count": 101,
   "metadata": {},
   "outputs": [
    {
     "name": "stdout",
     "output_type": "stream",
     "text": [
      "Enter a number 4\n"
     ]
    },
    {
     "data": {
      "text/plain": [
       "'No! 4 is NOT an Odd Number'"
      ]
     },
     "execution_count": 101,
     "metadata": {},
     "output_type": "execute_result"
    }
   ],
   "source": [
    "x = int(input(\"Enter a number \"))\n",
    "\n",
    "def isOdd(x):\n",
    "    if x % 2 != 0:\n",
    "        return f\"Yes!{x} IS an Odd Number\"\n",
    "    else:\n",
    "        return f\"No! {x} is NOT an Odd Number\"\n",
    "\n",
    "isOdd(x)\n",
    "\n",
    "# f string / format string. If you write f next to the \"\", it replaces the variables within\n",
    "\n",
    "#output = isOdd(9)\n",
    "#print(output)"
   ]
  },
  {
   "cell_type": "code",
   "execution_count": 104,
   "metadata": {},
   "outputs": [
    {
     "name": "stdout",
     "output_type": "stream",
     "text": [
      "Enter a number 5\n"
     ]
    },
    {
     "data": {
      "text/plain": [
       "'Yes! 5 IS an Odd Number'"
      ]
     },
     "execution_count": 104,
     "metadata": {},
     "output_type": "execute_result"
    }
   ],
   "source": [
    "x = int(input(\"Enter a number \"))\n",
    "\n",
    "def isOdd(x):\n",
    "    if x % 2 != 0:\n",
    "        return \"Yes! {} IS an Odd Number\".format(x)\n",
    "    else:\n",
    "        return \"No! {} is NOT an Odd Number\".format(x)\n",
    "\n",
    "isOdd(x)\n",
    "\n",
    "# .format() is another syntax for the same formatting technique"
   ]
  },
  {
   "cell_type": "code",
   "execution_count": 19,
   "metadata": {},
   "outputs": [],
   "source": [
    "# v. 2 from Sean\n",
    "\n",
    "def isOdd(number):\n",
    "    return number % 2 != 0      # this is already a boolean expression. It already is going to evaluate if True/False\n",
    "\n",
    "# if you expect true or false and you use == or !=, then you add to the return line and it will output True/False"
   ]
  },
  {
   "cell_type": "code",
   "execution_count": 21,
   "metadata": {},
   "outputs": [
    {
     "data": {
      "text/plain": [
       "True"
      ]
     },
     "execution_count": 21,
     "metadata": {},
     "output_type": "execute_result"
    }
   ],
   "source": [
    "10 % 5 == 0   # the output will already be true/false"
   ]
  },
  {
   "cell_type": "markdown",
   "metadata": {},
   "source": [
    "# 2)\n",
    "\n",
    "'''\n",
    "Write a function called \"isLessThan\". Given 2 numbers, \"isLessThan\" returns whether num2 is less than num1.\n",
    "\n",
    "output = isLessThan(9, 4)\n",
    "print(output) # --> True\n",
    "'''"
   ]
  },
  {
   "cell_type": "code",
   "execution_count": 3,
   "metadata": {},
   "outputs": [
    {
     "name": "stdout",
     "output_type": "stream",
     "text": [
      "Enter your 1st number: 6\n",
      "Enter a 2nd number. We will check if this number is less than the 1st you entered7\n"
     ]
    },
    {
     "data": {
      "text/plain": [
       "'No! 7 is NOT less than 6'"
      ]
     },
     "execution_count": 3,
     "metadata": {},
     "output_type": "execute_result"
    }
   ],
   "source": [
    "num1 = int(input(\"Enter your 1st number: \"))\n",
    "num2 = int(input(\"Enter a 2nd number. We will check if this number is less than the 1st you entered\"))\n",
    "\n",
    "def isLessThan(num1,num2):\n",
    "    if num2 < num1:\n",
    "        return f\"Yes! {num2} is less than {num1}\"\n",
    "    else:\n",
    "        return f\"No! {num2} is NOT less than {num1}\"\n",
    "        \n",
    "isLessThan(num1,num2)\n",
    "\n",
    "# output = isLessThan(9, 4) print(output) # --> True '''"
   ]
  },
  {
   "cell_type": "code",
   "execution_count": 26,
   "metadata": {},
   "outputs": [
    {
     "data": {
      "text/plain": [
       "False"
      ]
     },
     "execution_count": 26,
     "metadata": {},
     "output_type": "execute_result"
    }
   ],
   "source": [
    "# v. 2 from Sean\n",
    "\n",
    "def isLessThan(num1,num2):\n",
    "    return num1 < num2  #This is a boolean expression, so it will already return a true or false\n",
    "\n",
    "isLessThan(9,4)\n",
    "\n",
    "# if not in Jupyter notebook, you will have to write out\n",
    "# output = isLessThan (9,4)\n",
    "# print(output) "
   ]
  },
  {
   "cell_type": "markdown",
   "metadata": {},
   "source": [
    "# 3)\n",
    "\n",
    "'''\n",
    "Write a function called \"squareElements\". Given a list of numbers, \"squareElements\" should return a new list where each element is the square of the element of the given list.\n",
    "\n",
    "output = squareElements([1, 2, 3])\n",
    "print(output) # --> [1, 4, 9]\n",
    "#'''"
   ]
  },
  {
   "cell_type": "code",
   "execution_count": 28,
   "metadata": {},
   "outputs": [
    {
     "data": {
      "text/plain": [
       "[1, 4, 9]"
      ]
     },
     "execution_count": 28,
     "metadata": {},
     "output_type": "execute_result"
    }
   ],
   "source": [
    "# NOTES: \n",
    "\n",
    "# In Line #2 (def function):\n",
    "## \"lst\" is a random variable that acts as placeholder for what will be inserted when you call this function later (line #5) +\n",
    "## only the variables listed in this line (pointing to outside sources) can be passed into further commands in this function\n",
    "\n",
    "# In Line #4 (loop start), \"lst\" is stating what variable from the function line (line#2) this command will incorporate.\n",
    "\n",
    "# In Line #7, \n",
    "## Remember that in line #2, \"lst\" was a ramdom variable as a placeholder. We can now reassign every time the function is called\n",
    "## squareElements(input_list) can be interpreted as squareElements(lst = input_list). And you can keep reassiging further\n",
    "\n",
    "\n",
    "input_lst = [1, 2, 3]            # Line 1\n",
    "\n",
    "def squareElements(lst):          # Line 2\n",
    "    answer = []                   # Line 3\n",
    "    for x in lst:                 # Line 4\n",
    "        answer.append(x**2)       # Line 5\n",
    "    return answer                 # Line 6\n",
    "\n",
    "squareElements(input_lst) #B      # Line 7 \n"
   ]
  },
  {
   "cell_type": "code",
   "execution_count": 30,
   "metadata": {},
   "outputs": [
    {
     "name": "stdout",
     "output_type": "stream",
     "text": [
      "[1, 4, 9]\n"
     ]
    }
   ],
   "source": [
    "# v. 2 from Miguel\n",
    "\n",
    "\n",
    "def squareElements2(lst):\n",
    "    return [item**2 for item in lst]    # list comprehension\n",
    "\n",
    "output = squareElements([1, 2, 3])\n",
    "print(output)"
   ]
  },
  {
   "cell_type": "code",
   "execution_count": 71,
   "metadata": {},
   "outputs": [
    {
     "name": "stdout",
     "output_type": "stream",
     "text": [
      "<generator object squareElements.<locals>.<genexpr> at 0x000001F0D054BDE0>\n"
     ]
    }
   ],
   "source": [
    "# Reference\n",
    "# Example from OUTSIDE source using line combination (not working). \n",
    "\n",
    "def squareElements(lst):\n",
    "    return(i**2 for i in lst)\n",
    "\n",
    "lst = [2,4,6]\n",
    "\n",
    "output = squareElements(lst)\n",
    "\n",
    "print(output)"
   ]
  },
  {
   "cell_type": "markdown",
   "metadata": {},
   "source": [
    "# 4)\n",
    "\n",
    "'''\n",
    "Write a function called \"isSameLength\".\n",
    "\n",
    "Given two words, \"isSameLength\" returns whether the given words have the same length.\n",
    "\n",
    "output = isSameLength('words', 'super')\n",
    "print(output) # --> True\n",
    "'''"
   ]
  },
  {
   "cell_type": "code",
   "execution_count": null,
   "metadata": {},
   "outputs": [],
   "source": [
    "input_word_1 = input(\"Enter word #1: \")\n",
    "input_word_2 = input(\"Enter word #2: \")\n",
    "\n",
    "def isSameLenght(word1,word2):\n",
    "    if len(word1) == len(word2):\n",
    "        return f\"Yes! The word {word1} is the same length as the word {word2}\"\n",
    "    else:\n",
    "        return f\"No! The word {word1} is NOT the same length as the word {word2}\"\n",
    "        \n",
    "isSameLenght(input_word_1, input_word_2)"
   ]
  },
  {
   "cell_type": "code",
   "execution_count": 32,
   "metadata": {},
   "outputs": [
    {
     "name": "stdout",
     "output_type": "stream",
     "text": [
      "True\n"
     ]
    }
   ],
   "source": [
    "def isSameLenght(word1,word2):\n",
    "    return len(word1) == len(word2) # preferred for Python users\n",
    "\n",
    "output = isSameLenght(\"hey\", \"hot\")\n",
    "print(output)"
   ]
  },
  {
   "cell_type": "markdown",
   "metadata": {},
   "source": [
    "# 5)\n",
    "\n",
    "'''\n",
    "Write a function called \"getAllLetters\".\n",
    "\n",
    "Given a word, \"getAllLetters\" returns an array containing every character in the word.\n",
    "\n",
    "Notes:\n",
    "\n",
    "If given an empty string, it should return an empty array.\n",
    "output = getAllLetters('Radagast')\n",
    "print(output) # --> ['R', 'a', 'd', 'a', 'g', 'a', 's', 't']\n",
    "'''"
   ]
  },
  {
   "cell_type": "code",
   "execution_count": 2,
   "metadata": {},
   "outputs": [
    {
     "name": "stdout",
     "output_type": "stream",
     "text": [
      "Enter a word: hey\n"
     ]
    },
    {
     "data": {
      "text/plain": [
       "['h', 'e', 'y']"
      ]
     },
     "execution_count": 2,
     "metadata": {},
     "output_type": "execute_result"
    }
   ],
   "source": [
    "# list() >> splits the string into individual charactersr\n",
    " \n",
    "input_word = input(\"Enter a word: \")\n",
    "    \n",
    "def getAllLetters(word):\n",
    "    return list(word)\n",
    "\n",
    "getAllLetters(input_word)"
   ]
  },
  {
   "cell_type": "code",
   "execution_count": null,
   "metadata": {},
   "outputs": [],
   "source": [
    "input_word = input(\"Enter a word: \")\n",
    "    \n",
    "def getAllLetters(word):\n",
    "    return [letter for letter in word]\n",
    "\n",
    "getAllLetters(input_word)"
   ]
  },
  {
   "cell_type": "markdown",
   "metadata": {},
   "source": [
    "# 6)\n",
    "'''\n",
    "Write a function called \"countWords\".\n",
    "\n",
    "Given a string, \"countWords\" returns a dictionary where each key is a word in the given string, with its value being how many times that word appeared in the given string.\n",
    "\n",
    "Notes:\n",
    "\n",
    "If given an empty string, it should return an empty dictionary.\n",
    "output = countWords('ask a bunch get a bunch')\n",
    "print(output) # --> {'ask': 1, 'a': 2, 'bunch': 2, 'get': 1}\n",
    "'''"
   ]
  },
  {
   "cell_type": "code",
   "execution_count": 3,
   "metadata": {},
   "outputs": [
    {
     "name": "stdout",
     "output_type": "stream",
     "text": [
      "ask a bunch get a bunch\n",
      "['ask', 'a', 'bunch', 'get', 'a', 'bunch']\n"
     ]
    },
    {
     "data": {
      "text/plain": [
       "{'ask': 1, 'a': 3, 'bunch': 2, 'get': 1}"
      ]
     },
     "execution_count": 3,
     "metadata": {},
     "output_type": "execute_result"
    }
   ],
   "source": [
    "# GOOD TRY! BUT NOTE, THAT YOU GET A VALUE OF 3 FOR KEY \"A\" BECAUSE A IS REPEATED AS PART OF ANOTHER WORD\n",
    "\n",
    "input_string = input()\n",
    "\n",
    "print(input_string.split())\n",
    "\n",
    "def countWords(string):\n",
    "    answer = {}\n",
    "    split_string = string.split()\n",
    "    for x in split_string:\n",
    "        answer[x] = string.count(x)\n",
    "    return answer\n",
    "\n",
    "countWords(input_string)"
   ]
  },
  {
   "cell_type": "code",
   "execution_count": 10,
   "metadata": {},
   "outputs": [
    {
     "name": "stdout",
     "output_type": "stream",
     "text": [
      "{'ask': 1, 'a': 2, 'bunch': 2, 'get': 1}\n"
     ]
    }
   ],
   "source": [
    "# version from Sean\n",
    "\n",
    "def countWords(string):\n",
    "    lst = string.split()\n",
    "    new_dict = {}\n",
    "    for word in lst:\n",
    "        if word not in new_dict:         # this is checking only the key\n",
    "            new_dict[word] = 1\n",
    "        else:\n",
    "            new_dict[word] += 1         # new_dict[word] = new_dict[word] + 1\n",
    "    return new_dict\n",
    "\n",
    "output = countWords (\"ask a bunch get a bunch\")\n",
    "print(output)"
   ]
  },
  {
   "cell_type": "code",
   "execution_count": 11,
   "metadata": {},
   "outputs": [],
   "source": [
    "# Python has a counter class that will do this automatically\n",
    "\n",
    "from collections import Counter"
   ]
  },
  {
   "cell_type": "markdown",
   "metadata": {},
   "source": [
    "# 7)\n",
    "\n",
    "'''\n",
    "Write a function called \"extend\".\n",
    "\n",
    "Given two dictionaries, \"extend\" adds properties from the second dictionary to the first.\n",
    "\n",
    "Notes:\n",
    "\n",
    "Add any keys from the 2nd dictionary that are not in the first.\n",
    "If the 1st dictionary already has a given key, ignore it (do not overwrite the first dictionary if it already has the given key).\n",
    "Do not modify the 2nd dictionary at all.\n",
    "dict1 = {'a': 1, 'b': 2}\n",
    "\n",
    "dict2 = {'b': 4, 'c': 3}\n",
    "\n",
    "\n",
    "result = extend(dict1, dict2)\n",
    "\n",
    "print(result) # --> {'a': 1, 'b': 2, 'c': 3}\n",
    "print(dict1)  # --> {'a': 1, 'b': 2, 'c': 3}\n",
    "print(dict2) # --> {'b': 4, 'c': 3}\n",
    "'''"
   ]
  },
  {
   "cell_type": "code",
   "execution_count": 20,
   "metadata": {},
   "outputs": [
    {
     "ename": "ValueError",
     "evalue": "not enough values to unpack (expected 2, got 1)",
     "output_type": "error",
     "traceback": [
      "\u001b[1;31m---------------------------------------------------------------------------\u001b[0m",
      "\u001b[1;31mValueError\u001b[0m                                Traceback (most recent call last)",
      "\u001b[1;32m<ipython-input-20-c34ec1168315>\u001b[0m in \u001b[0;36m<module>\u001b[1;34m\u001b[0m\n\u001b[0;32m      8\u001b[0m     \u001b[1;32mreturn\u001b[0m \u001b[0mdict1\u001b[0m\u001b[1;33m\u001b[0m\u001b[1;33m\u001b[0m\u001b[0m\n\u001b[0;32m      9\u001b[0m \u001b[1;33m\u001b[0m\u001b[0m\n\u001b[1;32m---> 10\u001b[1;33m \u001b[0mextend\u001b[0m\u001b[1;33m(\u001b[0m\u001b[0mdicta\u001b[0m\u001b[1;33m,\u001b[0m \u001b[0mdictb\u001b[0m\u001b[1;33m)\u001b[0m\u001b[1;33m\u001b[0m\u001b[1;33m\u001b[0m\u001b[0m\n\u001b[0m",
      "\u001b[1;32m<ipython-input-20-c34ec1168315>\u001b[0m in \u001b[0;36mextend\u001b[1;34m(dict1, dict2)\u001b[0m\n\u001b[0;32m      3\u001b[0m \u001b[1;33m\u001b[0m\u001b[0m\n\u001b[0;32m      4\u001b[0m \u001b[1;32mdef\u001b[0m \u001b[0mextend\u001b[0m\u001b[1;33m(\u001b[0m\u001b[0mdict1\u001b[0m\u001b[1;33m,\u001b[0m \u001b[0mdict2\u001b[0m\u001b[1;33m)\u001b[0m\u001b[1;33m:\u001b[0m\u001b[1;33m\u001b[0m\u001b[1;33m\u001b[0m\u001b[0m\n\u001b[1;32m----> 5\u001b[1;33m     \u001b[1;32mfor\u001b[0m \u001b[1;33m(\u001b[0m\u001b[0mkey1\u001b[0m\u001b[1;33m,\u001b[0m \u001b[0mvalue1\u001b[0m\u001b[1;33m)\u001b[0m\u001b[1;33m,\u001b[0m \u001b[1;33m(\u001b[0m\u001b[0mkey2\u001b[0m\u001b[1;33m,\u001b[0m \u001b[0mvalue2\u001b[0m\u001b[1;33m)\u001b[0m \u001b[1;32min\u001b[0m \u001b[0mzip\u001b[0m\u001b[1;33m(\u001b[0m\u001b[0mdict1\u001b[0m\u001b[1;33m,\u001b[0m \u001b[0mdict2\u001b[0m\u001b[1;33m)\u001b[0m\u001b[1;33m:\u001b[0m\u001b[1;33m\u001b[0m\u001b[1;33m\u001b[0m\u001b[0m\n\u001b[0m\u001b[0;32m      6\u001b[0m         \u001b[1;32mif\u001b[0m \u001b[0mkey1\u001b[0m \u001b[1;33m!=\u001b[0m \u001b[0mkey2\u001b[0m\u001b[1;33m:\u001b[0m\u001b[1;33m\u001b[0m\u001b[1;33m\u001b[0m\u001b[0m\n\u001b[0;32m      7\u001b[0m             \u001b[0mdict1\u001b[0m\u001b[1;33m[\u001b[0m\u001b[0mkey2\u001b[0m\u001b[1;33m]\u001b[0m \u001b[1;33m=\u001b[0m \u001b[1;33m[\u001b[0m\u001b[0mvalue2\u001b[0m\u001b[1;33m]\u001b[0m\u001b[1;33m\u001b[0m\u001b[1;33m\u001b[0m\u001b[0m\n",
      "\u001b[1;31mValueError\u001b[0m: not enough values to unpack (expected 2, got 1)"
     ]
    }
   ],
   "source": [
    "# bad error\n",
    "\n",
    "dicta = {'a': 1, 'b': 2}\n",
    "dictb = {'b': 4, 'c': 3}\n",
    "\n",
    "def extend(dict1, dict2):\n",
    "    for (key1, value1), (key2, value2) in dict1, dict2:\n",
    "        if key1 != key2:\n",
    "            dict1[key2] = [value2]\n",
    "    return dict1\n",
    "\n",
    "extend(dicta, dictb)"
   ]
  },
  {
   "cell_type": "code",
   "execution_count": 36,
   "metadata": {},
   "outputs": [
    {
     "name": "stdout",
     "output_type": "stream",
     "text": [
      "{'a': 1, 'b': 2, 'c': 3, 'd': 29}\n"
     ]
    }
   ],
   "source": [
    "dict1 = {'a': 1, 'b': 2}\n",
    "dict2 = {'b': 4, 'c': 3, \"d\" : 29}\n",
    "\n",
    "def extend(dict1, dict2):\n",
    "    for key in dict2:\n",
    "        if key not in dict1:\n",
    "            dict1[key] = dict2[key] # you don't need to pull a variable for the value. you can use dict[key] and it finds it\n",
    "    return dict1\n",
    "    \n",
    "result = extend(dict1, dict2)\n",
    "print(result)\n",
    "    \n",
    "            "
   ]
  },
  {
   "cell_type": "markdown",
   "metadata": {},
   "source": [
    "# 8)\n",
    "\n",
    "'''Write a function called \"select\".\n",
    "\n",
    "Given list and a dictionary, \"select\" returns a new dictionary whose keys are those in the given dictionary which are present in the given list.\n",
    "\n",
    "Notes:\n",
    "\n",
    "If keys are present in the given list, but are not in the given dictionary, it should ignore them.\n",
    "It does not modify the passed in dictionary.\n",
    "input_list = ['a', 'c', 'e']\n",
    "input_dict = {'a': 1, 'b': 2, 'c': 3, 'd': 4}\n",
    "\n",
    "output = select(input_list, input_dict)\n",
    "print(output) # --> {'a': 1, 'c': 3}\n",
    "\n",
    "print(input_dict) # --> {'a': 1, 'b': 2, 'c': 3, 'd': 4}\n",
    "'''"
   ]
  },
  {
   "cell_type": "code",
   "execution_count": 38,
   "metadata": {},
   "outputs": [
    {
     "name": "stdout",
     "output_type": "stream",
     "text": [
      "{'a': 1, 'c': 3}\n"
     ]
    }
   ],
   "source": [
    "def select(lst,dictionary):\n",
    "    new_dict = {}\n",
    "    for item in lst:\n",
    "        if item in dictionary:\n",
    "            new_dict[item] = dictionary[item]\n",
    "    return new_dict\n",
    "\n",
    "input_list = ['a', 'c', 'e']\n",
    "input_dict = {'a': 1, 'b': 2, 'c': 3, 'd': 4}\n",
    "\n",
    "output = select (input_list, input_dict)\n",
    "print(output)\n"
   ]
  },
  {
   "cell_type": "markdown",
   "metadata": {},
   "source": [
    "# 9)\n",
    "\n",
    "'''\n",
    "Write a function called \"countAllCharacters\".\n",
    "\n",
    "Given a string, \"countAllCharacters\" returns a dictionary where each key is a character in the given string. The value of each key should be how many times each character appeared in the given string.\n",
    "\n",
    "Notes:\n",
    "\n",
    "If given an empty string, countAllCharacters should return an empty dictionary.\n",
    "output = countAllCharacters('banana')\n",
    "print(output) # --> {'b': 1, 'a': 3, 'n': 2}\n",
    "'''"
   ]
  },
  {
   "cell_type": "code",
   "execution_count": 43,
   "metadata": {},
   "outputs": [
    {
     "name": "stdout",
     "output_type": "stream",
     "text": [
      "{'b': 1, 'a': 3, 'n': 2}\n"
     ]
    }
   ],
   "source": [
    "# from Sean\n",
    "\n",
    "def countAllCharacterse(string):\n",
    "    new_dict = {}\n",
    "    for letter in string:\n",
    "        if letter in new_dict:\n",
    "            new_dict[letter] += 1      # value plus 1\n",
    "        else: \n",
    "            new_dict[letter] = 1\n",
    "    return new_dict\n",
    "\n",
    "output = countAllCharacterse(\"banana\")\n",
    "print(output)\n"
   ]
  },
  {
   "cell_type": "code",
   "execution_count": 45,
   "metadata": {},
   "outputs": [
    {
     "data": {
      "text/plain": [
       "Counter({'b': 1, 'a': 3, 'n': 2})"
      ]
     },
     "execution_count": 45,
     "metadata": {},
     "output_type": "execute_result"
    }
   ],
   "source": [
    "import collections\n",
    "from collections import Counter\n",
    "c = Counter('banana')\n",
    "c"
   ]
  }
 ],
 "metadata": {
  "kernelspec": {
   "display_name": "Python 3",
   "language": "python",
   "name": "python3"
  },
  "language_info": {
   "codemirror_mode": {
    "name": "ipython",
    "version": 3
   },
   "file_extension": ".py",
   "mimetype": "text/x-python",
   "name": "python",
   "nbconvert_exporter": "python",
   "pygments_lexer": "ipython3",
   "version": "3.7.3"
  }
 },
 "nbformat": 4,
 "nbformat_minor": 2
}
