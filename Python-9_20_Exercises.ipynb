{
 "cells": [
  {
   "cell_type": "markdown",
   "metadata": {},
   "source": [
    "# 1)"
   ]
  },
  {
   "cell_type": "markdown",
   "metadata": {},
   "source": [
    "''' #1\n",
    "Write a function called \"addProperty\". \n",
    "Given an dict, and a key, \"addProperty\" sets a new property on the \n",
    "given dictionary with a value of True.\n",
    "\n",
    "dictionary = {}\n",
    "addProperty(dictionary, 'my_property')\n",
    "\n",
    "print(my_dict['my_property']) # --> True\n",
    "'''"
   ]
  },
  {
   "cell_type": "code",
   "execution_count": 262,
   "metadata": {},
   "outputs": [],
   "source": [
    "# write a function where you enter a dictionary + a key and the function adds a key value pair (key:True) to dictionary. "
   ]
  },
  {
   "cell_type": "code",
   "execution_count": 263,
   "metadata": {},
   "outputs": [],
   "source": [
    "def addProperty (dictionary, key):\n",
    "    dictionary[key] = True\n",
    "    return f\"The Key {key} was added with value set as True\""
   ]
  },
  {
   "cell_type": "code",
   "execution_count": 264,
   "metadata": {},
   "outputs": [
    {
     "data": {
      "text/plain": [
       "'The Key 3 was added with value set as True'"
      ]
     },
     "execution_count": 264,
     "metadata": {},
     "output_type": "execute_result"
    }
   ],
   "source": [
    "dict1 = {}\n",
    "\n",
    "addProperty(dict1, 3)\n"
   ]
  },
  {
   "cell_type": "code",
   "execution_count": 265,
   "metadata": {},
   "outputs": [
    {
     "name": "stdout",
     "output_type": "stream",
     "text": [
      "{3: True}\n"
     ]
    }
   ],
   "source": [
    "print(dict1)"
   ]
  },
  {
   "cell_type": "code",
   "execution_count": 266,
   "metadata": {},
   "outputs": [
    {
     "name": "stdout",
     "output_type": "stream",
     "text": [
      "True\n"
     ]
    }
   ],
   "source": [
    "dictionary = {}\n",
    "addProperty(dictionary, 'my_property')\n",
    "\n",
    "print(dictionary['my_property'])"
   ]
  },
  {
   "cell_type": "markdown",
   "metadata": {},
   "source": [
    "# 2)"
   ]
  },
  {
   "cell_type": "markdown",
   "metadata": {},
   "source": [
    "''' #2\n",
    "Write a function called \"removeProperty\". Given an object and a key, \"removeProperty\" removes the given key from the given object.\n",
    "\n",
    "dictionary = {'name':'Sam', 'age': 20}\n",
    "removeProperty(dictionary, 'name')\n",
    "\n",
    "print(dictionary) # --> {'age': 20}\n",
    "print(dictionary.get('name')) # --> None\n",
    "'''"
   ]
  },
  {
   "cell_type": "code",
   "execution_count": 267,
   "metadata": {},
   "outputs": [],
   "source": [
    "def removeProperty (dictionary, key):\n",
    "    if key not in dictionary:\n",
    "        return \"None\"\n",
    "    else:\n",
    "        del dictionary[key]\n",
    "        return f\"The key {key} was removed\"\n",
    "\n",
    "# used del. Would pop have been better?"
   ]
  },
  {
   "cell_type": "code",
   "execution_count": 268,
   "metadata": {},
   "outputs": [
    {
     "data": {
      "text/plain": [
       "'The key 4 was removed'"
      ]
     },
     "execution_count": 268,
     "metadata": {},
     "output_type": "execute_result"
    }
   ],
   "source": [
    "dict1= {1:2, 4:5, 7:8}\n",
    "\n",
    "removeProperty(dict1, 4)\n",
    "\n",
    "# I wanted to write Key x was removed from y but I don't know how to return the variable name name rather than the elements"
   ]
  },
  {
   "cell_type": "code",
   "execution_count": 269,
   "metadata": {
    "scrolled": true
   },
   "outputs": [
    {
     "name": "stdout",
     "output_type": "stream",
     "text": [
      "{1: 2, 7: 8}\n"
     ]
    }
   ],
   "source": [
    "print(dict1)"
   ]
  },
  {
   "cell_type": "code",
   "execution_count": 270,
   "metadata": {},
   "outputs": [
    {
     "data": {
      "text/plain": [
       "'The key name was removed'"
      ]
     },
     "execution_count": 270,
     "metadata": {},
     "output_type": "execute_result"
    }
   ],
   "source": [
    "dictionary = {'name':'Sam', 'age': 20} \n",
    "\n",
    "removeProperty(dictionary, 'name')"
   ]
  },
  {
   "cell_type": "code",
   "execution_count": 271,
   "metadata": {},
   "outputs": [
    {
     "data": {
      "text/plain": [
       "'None'"
      ]
     },
     "execution_count": 271,
     "metadata": {},
     "output_type": "execute_result"
    }
   ],
   "source": [
    "removeProperty(dictionary, 'name')"
   ]
  },
  {
   "cell_type": "markdown",
   "metadata": {},
   "source": [
    "# 3)"
   ]
  },
  {
   "cell_type": "markdown",
   "metadata": {},
   "source": [
    "''' #3\n",
    "Write a function called \"getSquaredElementsAtProperty\".\n",
    "\n",
    "Given a dictionary and a key, \"getSquaredElementsAtProperty\" \n",
    "returns a list containing all the squared elements of the list \n",
    "located at the given key.\n",
    "\n",
    "Notes:\n",
    "\n",
    "If the list is empty, it should return an empty list.\n",
    "If the property at the given key is not a list, it should return an empty list.\n",
    "If there is no property at the key, it should return an empty list.\n",
    "obj = {'key': [2, 1, 5]}\n",
    "\n",
    "output = getSquaredElementsAtProperty(obj, 'key')\n",
    "print(output) # --> [4, 1, 25]\n",
    "'''"
   ]
  },
  {
   "cell_type": "code",
   "execution_count": 272,
   "metadata": {},
   "outputs": [
    {
     "data": {
      "text/plain": [
       "[]"
      ]
     },
     "execution_count": 272,
     "metadata": {},
     "output_type": "execute_result"
    }
   ],
   "source": [
    "dict1 = {1:[2, 3, 4], 2:[2, 4, 6], 3:[2, 5, 7], 5: [], 6: 8, 7: \"Galvanize\"}\n",
    "\n",
    "def getSquaredElementsAtProperty(dictionary, key):\n",
    "    answer = []\n",
    "    if type(dictionary[key]) != list:\n",
    "        return answer\n",
    "    else:\n",
    "        pre_answer = []\n",
    "        for x in dictionary:\n",
    "            if x == key:\n",
    "                pre_answer.append(dictionary[key])\n",
    "        pre_answer = sum(pre_answer, []) # to flatten list of lists\n",
    "        for x in pre_answer:\n",
    "            answer.append(x**2)\n",
    "        return answer\n",
    "\n",
    "# sum(newlist, []) >> Used as a trick to flatten list because you are summing nothing and it returns a flattened list\n",
    "\n",
    "getSquaredElementsAtProperty(dict1, 2)"
   ]
  },
  {
   "cell_type": "code",
   "execution_count": 273,
   "metadata": {},
   "outputs": [
    {
     "name": "stdout",
     "output_type": "stream",
     "text": [
      "[]\n"
     ]
    }
   ],
   "source": [
    "obj = {'key': [2, 1, 5]}\n",
    "output = getSquaredElementsAtProperty(obj, 'key') \n",
    "print(output) \n"
   ]
  },
  {
   "cell_type": "markdown",
   "metadata": {},
   "source": [
    "# 4)"
   ]
  },
  {
   "cell_type": "markdown",
   "metadata": {},
   "source": [
    "''' #4\n",
    "Write a function called \"getOddElementsAtProperty\".\n",
    "\n",
    "Given a dictionary and a key, \"getOddElementsAtProperty\" \n",
    "returns a list containing all the odd elements of the list \n",
    "located at the given key.\n",
    "\n",
    "Notes:\n",
    "\n",
    "If the list is empty, it should return an empty list.\n",
    "If it contains no odd elements, it should return an empty list.\n",
    "If the property at the given key is not a list, \n",
    "it should return an empty list.\n",
    "If there is no property at the key, it should return an empty list.\n",
    "obj = {'key': [1, 2, 3, 4, 5]}\n",
    "\n",
    "output = getOddElementsAtProperty(obj, 'key')\n",
    "print(output) # --> [1, 3, 5]\n",
    "'''"
   ]
  },
  {
   "cell_type": "code",
   "execution_count": 274,
   "metadata": {},
   "outputs": [
    {
     "data": {
      "text/plain": [
       "[]"
      ]
     },
     "execution_count": 274,
     "metadata": {},
     "output_type": "execute_result"
    }
   ],
   "source": [
    "dict2 = {1:[2, 3, 4], 2:[2, 4, 6], 3:[2, 5, 7], 5: [], 6: 8, 7: \"Galvanize\"}\n",
    "\n",
    "def getOddElementsAtProperty(dictionary, key):\n",
    "    answer = []\n",
    "    if type(dictionary[key]) != list:\n",
    "        return answer\n",
    "    else:\n",
    "        pre_answer = []\n",
    "        for x in dictionary:\n",
    "            if x == key:\n",
    "                pre_answer.append(dictionary[key])\n",
    "        pre_answer = sum(pre_answer, []) # to flatten list of lists\n",
    "        for x in pre_answer:\n",
    "            if x % 2 != 0:\n",
    "                answer.append(x)\n",
    "        return answer\n",
    "\n",
    "getOddElementsAtProperty(dict2, 3)"
   ]
  },
  {
   "cell_type": "code",
   "execution_count": 275,
   "metadata": {},
   "outputs": [
    {
     "name": "stdout",
     "output_type": "stream",
     "text": [
      "[]\n"
     ]
    }
   ],
   "source": [
    "obj = {'key': [1, 2, 3, 4, 5]}\n",
    "output = getOddElementsAtProperty(obj, 'key') \n",
    "print(output)"
   ]
  },
  {
   "cell_type": "markdown",
   "metadata": {},
   "source": [
    "# 5)"
   ]
  },
  {
   "cell_type": "markdown",
   "metadata": {},
   "source": [
    "''' #5\n",
    "Write a function called \"average\".\n",
    "\n",
    "Given two numbers, \"average\" returns their average.\n",
    "\n",
    "output = average(4, 6)\n",
    "print(output) # --> 5\n",
    "'''"
   ]
  },
  {
   "cell_type": "code",
   "execution_count": 276,
   "metadata": {},
   "outputs": [],
   "source": [
    "def average(num1, num2):\n",
    "   return (num1 + num2)/2"
   ]
  },
  {
   "cell_type": "code",
   "execution_count": 277,
   "metadata": {},
   "outputs": [
    {
     "name": "stdout",
     "output_type": "stream",
     "text": [
      "5.0\n"
     ]
    }
   ],
   "source": [
    "output = average(4, 6)   # Note, this gives a 5.0 rather than 5 responsee. \n",
    "print(output)"
   ]
  },
  {
   "cell_type": "markdown",
   "metadata": {},
   "source": [
    "# 6)"
   ]
  },
  {
   "cell_type": "markdown",
   "metadata": {},
   "source": [
    "''' #6\n",
    "Write a function called \"computeAreaOfATriangle\".\n",
    "\n",
    "Given the base and height of a triangle, \"computeAreaOfATriangle\" returns its area.\n",
    "\n",
    "output = computeAreaOfATriangle(4, 6)\n",
    "print(output) # --> 12\n",
    "'''"
   ]
  },
  {
   "cell_type": "code",
   "execution_count": 278,
   "metadata": {},
   "outputs": [],
   "source": [
    "def computeAreaOfATriangle(base,height): # Do I have to consider if non-integers are entered?\n",
    "    return base*height*0.5"
   ]
  },
  {
   "cell_type": "code",
   "execution_count": 279,
   "metadata": {},
   "outputs": [
    {
     "name": "stdout",
     "output_type": "stream",
     "text": [
      "12.0\n"
     ]
    }
   ],
   "source": [
    "output = computeAreaOfATriangle(4, 6) \n",
    "print(output) "
   ]
  },
  {
   "cell_type": "markdown",
   "metadata": {},
   "source": [
    "# 7)"
   ]
  },
  {
   "cell_type": "markdown",
   "metadata": {},
   "source": [
    "''' #7\n",
    "Write a function called \"list_average\".\n",
    "\n",
    "Given a list of numbers, \"list_average\" returns their average.\n",
    "\n",
    "output = list_average([4, 6,8,10,12])\n",
    "print(output) # --> 8"
   ]
  },
  {
   "cell_type": "code",
   "execution_count": 281,
   "metadata": {},
   "outputs": [],
   "source": [
    "def list_average(lst):                 # Do I have to consider if a non-list is used?\n",
    "    return sum(lst)/len(lst)"
   ]
  },
  {
   "cell_type": "code",
   "execution_count": 239,
   "metadata": {},
   "outputs": [
    {
     "name": "stdout",
     "output_type": "stream",
     "text": [
      "8.0\n"
     ]
    }
   ],
   "source": [
    "output = list_average([4, 6,8,10,12]) \n",
    "print(output)"
   ]
  },
  {
   "cell_type": "markdown",
   "metadata": {},
   "source": [
    "# 8)"
   ]
  },
  {
   "cell_type": "markdown",
   "metadata": {},
   "source": [
    "''' #8\n",
    "Write a function called \"multiplyBetween\".\n",
    "\n",
    "Given 2 integers, \"multiplyBetween\" returns the product \n",
    "between the two given integers, beginning at num1, and excluding num2.\n",
    "\n",
    "Notes:\n",
    "\n",
    "The product between 1 and 4 is 1 * 2 * 3 = 6.\n",
    "\n",
    "If num2 is not greater than num1, it should return 0.\n",
    "output = multiplyBetween(2, 5)\n",
    "print(output) # --> 24\n",
    "'''\n"
   ]
  },
  {
   "cell_type": "code",
   "execution_count": 282,
   "metadata": {},
   "outputs": [],
   "source": [
    "# using numpy.prod to multiply all values within list\n",
    "\n",
    "import numpy\n",
    "\n",
    "def multiplyBetween(num1, num2):\n",
    "    pre_answer = []\n",
    "    for x in range(num1, num2):\n",
    "        pre_answer.append(x)\n",
    "    return numpy.prod(pre_answer)   "
   ]
  },
  {
   "cell_type": "code",
   "execution_count": 283,
   "metadata": {},
   "outputs": [
    {
     "data": {
      "text/plain": [
       "24"
      ]
     },
     "execution_count": 283,
     "metadata": {},
     "output_type": "execute_result"
    }
   ],
   "source": [
    "multiplyBetween(2,5)"
   ]
  },
  {
   "cell_type": "markdown",
   "metadata": {},
   "source": [
    "# 9)\n"
   ]
  },
  {
   "cell_type": "markdown",
   "metadata": {},
   "source": [
    "''' #9\n",
    "Write a function called \"sumBetween\".\n",
    "\n",
    "Given 2 integers, \"sumBetween\" returns the sum \n",
    "between the two given integers, beginning at num1, and excluding num2.\n",
    "\n",
    "Notes:\n",
    "\n",
    "The sum between 1 and 4 is 1 + 2 + 3 = 6.\n",
    "If num2 is not greater than num1, it should return 0.\n",
    "\n",
    "output = sumBetween(2, 5)\n",
    "print(output) # --> 9\n",
    "'''"
   ]
  },
  {
   "cell_type": "code",
   "execution_count": 284,
   "metadata": {},
   "outputs": [],
   "source": [
    "def sumBetween(num1, num2):\n",
    "    pre_answer = []\n",
    "    for x in range(num1, num2):\n",
    "        pre_answer.append(x)\n",
    "    return sum(pre_answer)  "
   ]
  },
  {
   "cell_type": "code",
   "execution_count": 285,
   "metadata": {},
   "outputs": [
    {
     "name": "stdout",
     "output_type": "stream",
     "text": [
      "9\n"
     ]
    }
   ],
   "source": [
    "output = sumBetween(2, 5) \n",
    "print(output)"
   ]
  }
 ],
 "metadata": {
  "kernelspec": {
   "display_name": "Python 3",
   "language": "python",
   "name": "python3"
  },
  "language_info": {
   "codemirror_mode": {
    "name": "ipython",
    "version": 3
   },
   "file_extension": ".py",
   "mimetype": "text/x-python",
   "name": "python",
   "nbconvert_exporter": "python",
   "pygments_lexer": "ipython3",
   "version": "3.7.3"
  }
 },
 "nbformat": 4,
 "nbformat_minor": 2
}
